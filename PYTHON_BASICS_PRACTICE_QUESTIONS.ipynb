{
  "nbformat": 4,
  "nbformat_minor": 0,
  "metadata": {
    "colab": {
      "provenance": [],
      "authorship_tag": "ABX9TyPvHTh5ATcIjAx7ca+mWMnN",
      "include_colab_link": true
    },
    "kernelspec": {
      "name": "python3",
      "display_name": "Python 3"
    },
    "language_info": {
      "name": "python"
    }
  },
  "cells": [
    {
      "cell_type": "markdown",
      "metadata": {
        "id": "view-in-github",
        "colab_type": "text"
      },
      "source": [
        "<a href=\"https://colab.research.google.com/github/kaotickreeations/Oeson-Projects/blob/main/PYTHON_BASICS_PRACTICE_QUESTIONS.ipynb\" target=\"_parent\"><img src=\"https://colab.research.google.com/assets/colab-badge.svg\" alt=\"Open In Colab\"/></a>"
      ]
    },
    {
      "cell_type": "code",
      "source": [
        "# write a program that checks if a number is even or odd\n",
        "def check_number(num):\n",
        "    if num % 2 == 0:\n",
        "        print(f\"{num} is an even number.\")\n",
        "    else:\n",
        "        print(f\"{num} is an odd number.\")\n",
        "\n",
        "# Input from the user\n",
        "try:\n",
        "    number = int(input(\"Enter a number: \"))\n",
        "    check_number(number)\n",
        "except ValueError:\n",
        "    print(\"Please enter a valid integer.\")\n",
        "\n"
      ],
      "metadata": {
        "colab": {
          "base_uri": "https://localhost:8080/"
        },
        "id": "8R9WfGeRb0ny",
        "outputId": "76dcb556-b445-4694-a597-c363e6e7dad3"
      },
      "execution_count": null,
      "outputs": [
        {
          "output_type": "stream",
          "name": "stdout",
          "text": [
            "Enter a number: 67\n",
            "67 is an odd number.\n"
          ]
        }
      ]
    },
    {
      "cell_type": "code",
      "source": [
        "# Given three numbers, find the largest among them\n",
        "def find_largest(num1, num2, num3):\n",
        "    if (num1 >= num2) and (num1 >= num3):\n",
        "        largest = num1\n",
        "    elif (num2 >= num1) and (num2 >= num3):\n",
        "        largest = num2\n",
        "    else:\n",
        "        largest = num3\n",
        "    print(f\"The largest number is {largest}\")\n",
        "\n",
        "# Input three numbers from the user\n",
        "try:\n",
        "    num1 = float(input(\"Enter the first number: \"))\n",
        "    num2 = float(input(\"Enter the second number: \"))\n",
        "    num3 = float(input(\"Enter the third number: \"))\n",
        "    find_largest(num1, num2, num3)\n",
        "except ValueError:\n",
        "    print(\"Please enter valid numbers.\")\n",
        "\n"
      ],
      "metadata": {
        "colab": {
          "base_uri": "https://localhost:8080/"
        },
        "id": "95GpHmkOb-i-",
        "outputId": "5283dc35-b0ee-4a9a-aa9d-79e1f17b06e2"
      },
      "execution_count": null,
      "outputs": [
        {
          "output_type": "stream",
          "name": "stdout",
          "text": [
            "Enter the first number: 87\n",
            "Enter the second number: 45\n",
            "Enter the third number: 90\n",
            "The largest number is 90.0\n"
          ]
        }
      ]
    },
    {
      "cell_type": "code",
      "source": [
        "# Create a program that takes a year as input and determines if it's a leap year.\n",
        "def is_leap_year(year):\n",
        "    # A year is a leap year if it is divisible by 4 and\n",
        "    # (not divisible by 100 or divisible by 400)\n",
        "    if (year % 4 == 0 and year % 100 != 0) or (year % 400 == 0):\n",
        "        print(f\"{year} is a leap year.\")\n",
        "    else:\n",
        "        print(f\"{year} is not a leap year.\")\n",
        "\n",
        "# Input from the user\n",
        "try:\n",
        "    year = int(input(\"Enter a year: \"))\n",
        "    is_leap_year(year)\n",
        "except ValueError:\n",
        "    print(\"Please enter a valid integer.\")\n",
        "\n"
      ],
      "metadata": {
        "colab": {
          "base_uri": "https://localhost:8080/"
        },
        "id": "dIiHI_1hcNdf",
        "outputId": "2c6c8c8a-ca61-4d7d-a073-e29ac6c9e34d"
      },
      "execution_count": null,
      "outputs": [
        {
          "output_type": "stream",
          "name": "stdout",
          "text": [
            "Enter a year: 2024\n",
            "2024 is a leap year.\n"
          ]
        }
      ]
    },
    {
      "cell_type": "code",
      "source": [
        "# Ask the user to enter their age and check if they are eligible to vote (age >= 18).\n",
        "def check_voting_eligibility(age):\n",
        "    if age >= 18:\n",
        "        print(\"You are 18 or older and eligible to vote!\")\n",
        "    else:\n",
        "        print(\"You are under 18 and not eligible to vote.\")\n",
        "\n",
        "# Input from the user\n",
        "try:\n",
        "    age = int(input(\"Enter your age: \"))\n",
        "    check_voting_eligibility(age)\n",
        "except ValueError:\n",
        "    print(\"Please enter a valid integer.\")\n"
      ],
      "metadata": {
        "colab": {
          "base_uri": "https://localhost:8080/"
        },
        "id": "7FgqByiZcXqW",
        "outputId": "a21661a2-2887-4ebc-e07a-d4d1cbfc616c"
      },
      "execution_count": null,
      "outputs": [
        {
          "output_type": "stream",
          "name": "stdout",
          "text": [
            "Enter your age: 56\n",
            "You are 18 or older and eligible to vote!\n"
          ]
        }
      ]
    },
    {
      "cell_type": "code",
      "source": [
        " # Write a program that takes a temperature in Celsius and categorizes it as cold (<15°C),\n",
        "# moderate (15-30°C), or hot (>30°C)\n",
        " def categorize_temperature(temp):\n",
        "    if temp < 15:\n",
        "        print(\"The temperature is categorized as cold.\")\n",
        "    elif 15 <= temp <= 30:\n",
        "        print(\"The temperature is categorized as moderate.\")\n",
        "    else:\n",
        "        print(\"The temperature is categorized as hot.\")\n",
        "\n",
        "# Input from the user\n",
        "try:\n",
        "    temperature = float(input(\"Enter the temperature in Celsius: \"))\n",
        "    categorize_temperature(temperature)\n",
        "except ValueError:\n",
        "    print(\"Please enter a valid number.\")\n"
      ],
      "metadata": {
        "colab": {
          "base_uri": "https://localhost:8080/"
        },
        "id": "iSLUSt6idA7w",
        "outputId": "47c61e92-808d-4c53-9915-428b1f08cc71"
      },
      "execution_count": null,
      "outputs": [
        {
          "output_type": "stream",
          "name": "stdout",
          "text": [
            "Enter the temperature in Celsius: 56\n",
            "The temperature is categorized as hot.\n"
          ]
        }
      ]
    },
    {
      "cell_type": "code",
      "source": [
        "# Print all even numbers from 1 to 50 using a for loop\n",
        "# Print all even numbers from 1 to 50\n",
        "for num in range(1, 51):  # Loop through numbers 1 to 50\n",
        "    if num % 2 == 0:  # Check if the number is divisible by 2\n",
        "        print(num)\n"
      ],
      "metadata": {
        "colab": {
          "base_uri": "https://localhost:8080/"
        },
        "id": "Y9qCkflGdRnw",
        "outputId": "81de64bd-8c6a-489d-d241-1f4ac694848d"
      },
      "execution_count": null,
      "outputs": [
        {
          "output_type": "stream",
          "name": "stdout",
          "text": [
            "2\n",
            "4\n",
            "6\n",
            "8\n",
            "10\n",
            "12\n",
            "14\n",
            "16\n",
            "18\n",
            "20\n",
            "22\n",
            "24\n",
            "26\n",
            "28\n",
            "30\n",
            "32\n",
            "34\n",
            "36\n",
            "38\n",
            "40\n",
            "42\n",
            "44\n",
            "46\n",
            "48\n",
            "50\n"
          ]
        }
      ]
    },
    {
      "cell_type": "code",
      "source": [
        "# Create a program that takes a number as input and prints its multiplication table (1-10)\n",
        "def print_multiplication_table(num):\n",
        "    print(f\"Multiplication table for {num}:\")\n",
        "    for i in range(1, 11):  # Loop from 1 to 10\n",
        "        print(f\"{num} x {i} = {num * i}\")\n",
        "\n",
        "# Input from the user\n",
        "try:\n",
        "    number = int(input(\"Enter a number: \"))\n",
        "    print_multiplication_table(number)\n",
        "except ValueError:\n",
        "    print(\"Please enter a valid integer.\")\n"
      ],
      "metadata": {
        "colab": {
          "base_uri": "https://localhost:8080/"
        },
        "id": "hnC4FynjdbIw",
        "outputId": "5b822767-4d24-4401-d130-827789587a62"
      },
      "execution_count": null,
      "outputs": [
        {
          "output_type": "stream",
          "name": "stdout",
          "text": [
            "Enter a number: 6\n",
            "Multiplication table for 6:\n",
            "6 x 1 = 6\n",
            "6 x 2 = 12\n",
            "6 x 3 = 18\n",
            "6 x 4 = 24\n",
            "6 x 5 = 30\n",
            "6 x 6 = 36\n",
            "6 x 7 = 42\n",
            "6 x 8 = 48\n",
            "6 x 9 = 54\n",
            "6 x 10 = 60\n"
          ]
        }
      ]
    },
    {
      "cell_type": "code",
      "source": [
        "# Write a program that calculates the sum of numbers from 1 to N, where N is input by the\n",
        " # user.\n",
        "def calculate_sum(n):\n",
        "    return sum(range(1, n + 1))  # Sum of numbers from 1 to N\n",
        "\n",
        "# Input from the user\n",
        "try:\n",
        "    n = int(input(\"Enter a positive integer N: \"))\n",
        "    if n < 1:\n",
        "        print(\"Please enter a positive integer greater than or equal to 1.\")\n",
        "    else:\n",
        "        result = calculate_sum(n)\n",
        "        print(f\"The sum of numbers from 1 to {n} is {result}.\")\n",
        "except ValueError:\n",
        "    print(\"Please enter a valid integer.\")\n"
      ],
      "metadata": {
        "colab": {
          "base_uri": "https://localhost:8080/"
        },
        "id": "HQU1oBfZdjkC",
        "outputId": "8af70ab8-8358-4c02-cba6-1872334d7ca2"
      },
      "execution_count": null,
      "outputs": [
        {
          "output_type": "stream",
          "name": "stdout",
          "text": [
            "Enter a positive integer N: 60\n",
            "The sum of numbers from 1 to 60 is 1830.\n"
          ]
        }
      ]
    },
    {
      "cell_type": "code",
      "source": [
        "# Ask the user to enter numbers until they enter -1, then print the sum of all numbers entered\n",
        "def calculate_sum():\n",
        "    total = 0\n",
        "    while True:\n",
        "        try:\n",
        "            num = int(input(\"Enter a number (-1 to stop): \"))\n",
        "            if num == -1:\n",
        "                break\n",
        "            total += num\n",
        "        except ValueError:\n",
        "            print(\"Please enter a valid integer.\")\n",
        "    print(f\"The sum of all numbers entered is {total}.\")\n",
        "\n",
        "# Run the function\n",
        "calculate_sum()\n"
      ],
      "metadata": {
        "colab": {
          "base_uri": "https://localhost:8080/"
        },
        "id": "nKSXeqAadvsE",
        "outputId": "0c8e48e1-d050-4185-d863-86ece8e7d9d9"
      },
      "execution_count": null,
      "outputs": [
        {
          "output_type": "stream",
          "name": "stdout",
          "text": [
            "Enter a number (-1 to stop): 4\n",
            "Enter a number (-1 to stop): 7\n",
            "Enter a number (-1 to stop): 3\n",
            "Enter a number (-1 to stop): 65\n",
            "Enter a number (-1 to stop): -1\n",
            "The sum of all numbers entered is 79.\n"
          ]
        }
      ]
    },
    {
      "cell_type": "code",
      "source": [
        "# Print the Fibonacci series up to N terms, where N is given by the user\n",
        "def fibonacci_series(n):\n",
        "    # Initialize the first two terms\n",
        "    a, b = 0, 1\n",
        "    fibonacci = []\n",
        "\n",
        "    for _ in range(n):\n",
        "        fibonacci.append(a)\n",
        "        a, b = b, a + b  # Update to the next terms\n",
        "\n",
        "    print(f\"The Fibonacci series up to {n} terms is: {fibonacci}\")\n",
        "\n",
        "# Input from the user\n",
        "try:\n",
        "    terms = int(input(\"Enter the number of terms (N): \"))\n",
        "    if terms <= 0:\n",
        "        print(\"Please enter a positive integer greater than 0.\")\n",
        "    else:\n",
        "        fibonacci_series(terms)\n",
        "except ValueError:\n",
        "    print(\"Please enter a valid integer.\")\n"
      ],
      "metadata": {
        "colab": {
          "base_uri": "https://localhost:8080/"
        },
        "id": "cfoNzYded8T3",
        "outputId": "77f9191c-de7e-4bf6-9112-be18e861a0ef"
      },
      "execution_count": null,
      "outputs": [
        {
          "output_type": "stream",
          "name": "stdout",
          "text": [
            "Enter the number of terms (N): 54\n",
            "The Fibonacci series up to 54 terms is: [0, 1, 1, 2, 3, 5, 8, 13, 21, 34, 55, 89, 144, 233, 377, 610, 987, 1597, 2584, 4181, 6765, 10946, 17711, 28657, 46368, 75025, 121393, 196418, 317811, 514229, 832040, 1346269, 2178309, 3524578, 5702887, 9227465, 14930352, 24157817, 39088169, 63245986, 102334155, 165580141, 267914296, 433494437, 701408733, 1134903170, 1836311903, 2971215073, 4807526976, 7778742049, 12586269025, 20365011074, 32951280099, 53316291173]\n"
          ]
        }
      ]
    },
    {
      "cell_type": "code",
      "source": [
        "# Create a simple login system where a user gets three attempts to enter the correct\n",
        "# password. If they fail, print \"Access Denied\"\n",
        "def login_system():\n",
        "    correct_password = \"mypassword\"  # Replace with your desired password\n",
        "    attempts = 3  # Maximum attempts\n",
        "\n",
        "    while attempts > 0:\n",
        "        user_input = input(\"Enter the password: \")\n",
        "        if user_input == correct_password:\n",
        "            print(\"Access Granted\")\n",
        "            return\n",
        "        else:\n",
        "            attempts -= 1\n",
        "            if attempts > 0:\n",
        "                print(f\"Incorrect password. You have {attempts} attempt(s) left.\")\n",
        "            else:\n",
        "                print(\"Access Denied\")\n",
        "\n",
        "# Run the login system\n",
        "login_system()\n"
      ],
      "metadata": {
        "colab": {
          "base_uri": "https://localhost:8080/"
        },
        "id": "yYcMyu4veFZo",
        "outputId": "8d4f20f5-2d0c-4881-ad97-702a2b86d983"
      },
      "execution_count": null,
      "outputs": [
        {
          "output_type": "stream",
          "name": "stdout",
          "text": [
            "Enter the password: 456\n",
            "Incorrect password. You have 2 attempt(s) left.\n",
            "Enter the password: 234\n",
            "Incorrect password. You have 1 attempt(s) left.\n",
            "Enter the password: 456\n",
            "Access Denied\n"
          ]
        }
      ]
    },
    {
      "cell_type": "code",
      "source": [
        "# Find all prime numbers between 1 and 100 using loops.\n",
        "# Function to check if a number is prime\n",
        "def is_prime(num):\n",
        "    if num < 2:  # 0 and 1 are not prime numbers\n",
        "        return False\n",
        "    for i in range(2, int(num ** 0.5) + 1):  # Check divisibility up to square root of the number\n",
        "        if num % i == 0:\n",
        "            return False\n",
        "    return True\n",
        "\n",
        "# Find and print all prime numbers between 1 and 100\n",
        "print(\"Prime numbers between 1 and 100:\")\n",
        "for number in range(1, 101):\n",
        "    if is_prime(number):\n",
        "        print(number, end=\" \")\n"
      ],
      "metadata": {
        "colab": {
          "base_uri": "https://localhost:8080/"
        },
        "id": "PaqnHG8FeRip",
        "outputId": "e4545095-e2c7-41e1-baaa-77927443d92d"
      },
      "execution_count": null,
      "outputs": [
        {
          "output_type": "stream",
          "name": "stdout",
          "text": [
            "Prime numbers between 1 and 100:\n",
            "2 3 5 7 11 13 17 19 23 29 31 37 41 43 47 53 59 61 67 71 73 79 83 89 97 "
          ]
        }
      ]
    },
    {
      "cell_type": "code",
      "source": [
        "# Write a program to count the number of digits in a number (e.g., input: 12345, output: 5)\n",
        "def count_digits(number):\n",
        "    # Convert the number to a string and count its length\n",
        "    return len(str(abs(number)))  # abs() ensures negative numbers are handled\n",
        "\n",
        "# Input from the user\n",
        "try:\n",
        "    num = int(input(\"Enter a number: \"))\n",
        "    result = count_digits(num)\n",
        "    print(f\"The number {num} has {result} digits.\")\n",
        "except ValueError:\n",
        "    print(\"Please enter a valid integer.\")\n"
      ],
      "metadata": {
        "colab": {
          "base_uri": "https://localhost:8080/"
        },
        "id": "CW0GaPPSeZsl",
        "outputId": "6ea013d5-d0f2-4fc4-efb4-95b212695c73"
      },
      "execution_count": null,
      "outputs": [
        {
          "output_type": "stream",
          "name": "stdout",
          "text": [
            "Enter a number: 9\n",
            "The number 9 has 1 digits.\n"
          ]
        }
      ]
    },
    {
      "cell_type": "code",
      "source": [
        "# ️ Write a program that asks for a number and catches any errors if the user enters a non\n",
        "# numeric value\n",
        "def ask_for_number():\n",
        "    try:\n",
        "        number = float(input(\"Enter a number: \"))\n",
        "        print(f\"You entered: {number}\")\n",
        "    except ValueError:\n",
        "        print(\"Invalid input! Please enter a numeric value.\")\n",
        "\n",
        "# Run the function\n",
        "ask_for_number()\n"
      ],
      "metadata": {
        "colab": {
          "base_uri": "https://localhost:8080/"
        },
        "id": "jyeY91HNemTO",
        "outputId": "492410c2-37e4-43d4-e378-cb9b5d5f4069"
      },
      "execution_count": null,
      "outputs": [
        {
          "output_type": "stream",
          "name": "stdout",
          "text": [
            "Enter a number: 334554\n",
            "You entered: 334554.0\n"
          ]
        }
      ]
    },
    {
      "cell_type": "code",
      "source": [
        "# Modify the division program to handle ZeroDivisionError and display a proper message\n",
        " #instead of crashing.\n",
        "def divide_numbers():\n",
        "    try:\n",
        "        numerator = float(input(\"Enter the numerator: \"))\n",
        "        denominator = float(input(\"Enter the denominator: \"))\n",
        "        result = numerator / denominator\n",
        "        print(f\"The result of the division is: {result}\")\n",
        "    except ZeroDivisionError:\n",
        "        print(\"Division by zero is not allowed. Please enter a non-zero denominator.\")\n",
        "    except ValueError:\n",
        "        print(\"Invalid input! Please enter numeric values.\")\n",
        "\n",
        "# Run the function\n",
        "divide_numbers()\n"
      ],
      "metadata": {
        "colab": {
          "base_uri": "https://localhost:8080/"
        },
        "id": "umt6cJKze3Qf",
        "outputId": "8f8f9068-b6b6-4b47-a267-d1ecee647f53"
      },
      "execution_count": null,
      "outputs": [
        {
          "output_type": "stream",
          "name": "stdout",
          "text": [
            "Enter the numerator: 73\n",
            "Enter the denominator: 9595\n",
            "The result of the division is: 0.0076081292339760295\n"
          ]
        }
      ]
    },
    {
      "cell_type": "code",
      "source": [
        "# If a number is divisible by 3, print \"Fizz\". If a number is divisible by 5, print \"Buzz\".\n",
        " # If a number is divisible by both 3 and 5, print \"FizzBuzz\".\n",
        " # FizzBuzz program\n",
        "def fizzbuzz():\n",
        "    for num in range(1, 101):  # Loop through numbers from 1 to 100\n",
        "        if num % 3 == 0 and num % 5 == 0:  # Divisible by both 3 and 5\n",
        "            print(\"FizzBuzz\")\n",
        "        elif num % 3 == 0:  # Divisible by 3\n",
        "            print(\"Fizz\")\n",
        "        elif num % 5 == 0:  # Divisible by 5\n",
        "            print(\"Buzz\")\n",
        "        else:\n",
        "            print(num)  # Not divisible by 3 or 5\n",
        "\n",
        "# Run the FizzBuzz function\n",
        "fizzbuzz()\n"
      ],
      "metadata": {
        "colab": {
          "base_uri": "https://localhost:8080/"
        },
        "id": "In3nwWAzfDql",
        "outputId": "fc2fa445-64d5-4bc0-99c5-ca553f333528"
      },
      "execution_count": null,
      "outputs": [
        {
          "output_type": "stream",
          "name": "stdout",
          "text": [
            "1\n",
            "2\n",
            "Fizz\n",
            "4\n",
            "Buzz\n",
            "Fizz\n",
            "7\n",
            "8\n",
            "Fizz\n",
            "Buzz\n",
            "11\n",
            "Fizz\n",
            "13\n",
            "14\n",
            "FizzBuzz\n",
            "16\n",
            "17\n",
            "Fizz\n",
            "19\n",
            "Buzz\n",
            "Fizz\n",
            "22\n",
            "23\n",
            "Fizz\n",
            "Buzz\n",
            "26\n",
            "Fizz\n",
            "28\n",
            "29\n",
            "FizzBuzz\n",
            "31\n",
            "32\n",
            "Fizz\n",
            "34\n",
            "Buzz\n",
            "Fizz\n",
            "37\n",
            "38\n",
            "Fizz\n",
            "Buzz\n",
            "41\n",
            "Fizz\n",
            "43\n",
            "44\n",
            "FizzBuzz\n",
            "46\n",
            "47\n",
            "Fizz\n",
            "49\n",
            "Buzz\n",
            "Fizz\n",
            "52\n",
            "53\n",
            "Fizz\n",
            "Buzz\n",
            "56\n",
            "Fizz\n",
            "58\n",
            "59\n",
            "FizzBuzz\n",
            "61\n",
            "62\n",
            "Fizz\n",
            "64\n",
            "Buzz\n",
            "Fizz\n",
            "67\n",
            "68\n",
            "Fizz\n",
            "Buzz\n",
            "71\n",
            "Fizz\n",
            "73\n",
            "74\n",
            "FizzBuzz\n",
            "76\n",
            "77\n",
            "Fizz\n",
            "79\n",
            "Buzz\n",
            "Fizz\n",
            "82\n",
            "83\n",
            "Fizz\n",
            "Buzz\n",
            "86\n",
            "Fizz\n",
            "88\n",
            "89\n",
            "FizzBuzz\n",
            "91\n",
            "92\n",
            "Fizz\n",
            "94\n",
            "Buzz\n",
            "Fizz\n",
            "97\n",
            "98\n",
            "Fizz\n",
            "Buzz\n"
          ]
        }
      ]
    }
  ]
}