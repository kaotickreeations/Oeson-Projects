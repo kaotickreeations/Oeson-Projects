{
  "nbformat": 4,
  "nbformat_minor": 0,
  "metadata": {
    "colab": {
      "provenance": [],
      "authorship_tag": "ABX9TyMxpRxsENyt/Tc3iJAgHRlS"
    },
    "kernelspec": {
      "name": "python3",
      "display_name": "Python 3"
    },
    "language_info": {
      "name": "python"
    }
  },
  "cells": [
    {
      "cell_type": "code",
      "execution_count": 1,
      "metadata": {
        "colab": {
          "base_uri": "https://localhost:8080/"
        },
        "id": "folmeiaiiWDT",
        "outputId": "0b4790e1-091d-4076-afc3-4161f922dc19"
      },
      "outputs": [
        {
          "output_type": "stream",
          "name": "stdout",
          "text": [
            "Enter the grade: 93\n",
            "Grade: A\n"
          ]
        }
      ],
      "source": [
        "grade = int(input(\"Enter the grade: \"))\n",
        "\n",
        "if grade >= 90:\n",
        "  print('Grade: A')\n",
        "elif grade >= 80:\n",
        "  print('Grade: B')\n",
        "elif grade >= 70:\n",
        "  print('Grade: c')\n",
        "elif grade >= 60:\n",
        "  print('Grade: D')\n",
        "else:\n",
        "  print('Grade: F')\n"
      ]
    },
    {
      "cell_type": "code",
      "source": [
        "year = int(input(\"Enter the Year: \"))\n",
        "\n",
        "if year % 4 == 0 and year % 100 != 0:\n",
        "  print(\"Leap Year\")\n",
        "else:\n",
        "  print(\"Not a Leap Year\")\n",
        "\n"
      ],
      "metadata": {
        "colab": {
          "base_uri": "https://localhost:8080/"
        },
        "id": "E47wqBNom74W",
        "outputId": "c8150f26-2c5e-49f6-829f-0ae34d179dba"
      },
      "execution_count": 4,
      "outputs": [
        {
          "output_type": "stream",
          "name": "stdout",
          "text": [
            "Enter the Year: 2024\n",
            "Leap Year\n"
          ]
        }
      ]
    },
    {
      "cell_type": "code",
      "source": [
        "def is_palindrome(num):\n",
        "  num_str = str(num)\n",
        "  return num_str == num_str[::-1]\n",
        "\n",
        "num = int(input(\"Enter the Number: \"))\n",
        "\n",
        "if is_palindrome(num):\n",
        "  print(\"Palindrome\")\n",
        "else:\n",
        "  print(\"Not Palindrome\")"
      ],
      "metadata": {
        "colab": {
          "base_uri": "https://localhost:8080/"
        },
        "id": "IwLeVtb4ptyx",
        "outputId": "d027f629-9fd6-4b64-b398-379f84430d3b"
      },
      "execution_count": 10,
      "outputs": [
        {
          "output_type": "stream",
          "name": "stdout",
          "text": [
            "Enter the Number: 600\n",
            "Not Palindrome\n"
          ]
        }
      ]
    },
    {
      "cell_type": "code",
      "source": [
        "age = int(input(\"Enter the Age: \"))\n",
        "\n",
        "if age >= 18:\n",
        "  print(\"Can vote!\")\n",
        "else:\n",
        "  print(\"Can't Vote\")\n",
        ""
      ],
      "metadata": {
        "colab": {
          "base_uri": "https://localhost:8080/"
        },
        "id": "8s_J5U7SqDUx",
        "outputId": "790740b8-2c20-449e-edcb-54440a14651f"
      },
      "execution_count": 6,
      "outputs": [
        {
          "output_type": "stream",
          "name": "stdout",
          "text": [
            "Enter the Age: 65\n",
            "Can vote!\n"
          ]
        }
      ]
    }
  ]
}